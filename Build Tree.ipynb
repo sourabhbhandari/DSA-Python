{
 "cells": [
  {
   "cell_type": "code",
   "execution_count": 9,
   "metadata": {},
   "outputs": [],
   "source": [
    "class Node:\n",
    "    \n",
    "    def __init__(self,data):\n",
    "        self.data = data\n",
    "        self.left = None\n",
    "        self.right = None\n",
    "\n",
    "def buildTree(preOrder,inOrder):\n",
    "    \n",
    "    if len(preOrder) == 0:\n",
    "        return None\n",
    "    \n",
    "    rootData = preOrder[0]\n",
    "    root = Node(rootData)\n",
    "    rootIndexInOrder = -1\n",
    "    \n",
    "    for i in range(0,len(inOrder)):\n",
    "        if inOrder[i] == rootData:\n",
    "            rootIndecInOrder = i\n",
    "            break\n",
    "       \n",
    "    if rootIndexInOrder == -1:\n",
    "        return None\n",
    "    \n",
    "    leftInOrder = inOrder[0:rootIndexInOrder]\n",
    "    rightInOrder = inOrder[rootIndexInder+1:]\n",
    "    \n",
    "    lenofLeftSubTree = len(leftInOrder)\n",
    "      \n",
    "    leftPreOrder = preOrder[1:lenofLeftSubTree+1]\n",
    "    rightPreOrder = preOrder[lenofLeftSubTree+1:]\n",
    "    \n",
    "    leftChild = buildTree(leftPreOrder,legtInOrder)\n",
    "    rightChild = buildTree(rightPreOrder,rightInOrder)\n",
    "     \n",
    "    root.left = leftChild\n",
    "    root.right = rightChild\n",
    "    \n",
    "    return root\n",
    "\n",
    "def printTree(root):\n",
    "    \n",
    "    if root == None:\n",
    "        return \n",
    "    print(root.data, end=\":\")\n",
    "    if root.left != None:\n",
    "        print(\"L\",root.left.data, end=\":\")\n",
    "    if root.right != None:\n",
    "        print(\"R\",root.right.data, end=\":\")\n",
    "    print()\n",
    "    printTree(root.left)\n",
    "    printTree(root.right)"
   ]
  },
  {
   "cell_type": "code",
   "execution_count": 10,
   "metadata": {},
   "outputs": [
    {
     "name": "stdout",
     "output_type": "stream",
     "text": [
      "None\n"
     ]
    }
   ],
   "source": [
    "preOrder = [1,2,4,5,3,6,7]\n",
    "inOrder = [4,2,5,1,6,3,7]\n",
    "root = buildTree(preOrder,inOrder)\n",
    "print(printTree(root))"
   ]
  },
  {
   "cell_type": "code",
   "execution_count": null,
   "metadata": {},
   "outputs": [],
   "source": []
  }
 ],
 "metadata": {
  "kernelspec": {
   "display_name": "Python 3",
   "language": "python",
   "name": "python3"
  },
  "language_info": {
   "codemirror_mode": {
    "name": "ipython",
    "version": 3
   },
   "file_extension": ".py",
   "mimetype": "text/x-python",
   "name": "python",
   "nbconvert_exporter": "python",
   "pygments_lexer": "ipython3",
   "version": "3.7.3"
  }
 },
 "nbformat": 4,
 "nbformat_minor": 2
}

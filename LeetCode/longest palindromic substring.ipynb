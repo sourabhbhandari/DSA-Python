{
 "cells": [
  {
   "cell_type": "code",
   "execution_count": 1,
   "metadata": {},
   "outputs": [],
   "source": [
    "#s = \"babad\"\n",
    "#oout = \"bab\" also \"aba\"\n",
    "\n",
    "\n",
    "def longest(s):\n",
    "    \n",
    "    if s == \"\":\n",
    "        return \"\"\n",
    "    if len(s) == 1:\n",
    "        return s\n",
    "    \n",
    "    rev = s[::-1]\n",
    "    res = \"\"\n",
    "    for i in range(len(s)):\n",
    "        if s[i] == rev[i]:\n",
    "            res+=s[i]\n",
    "    \n",
    "    return res\n",
    "\n",
    "def helper(self,s,l,r):\n",
    "    \n"
   ]
  },
  {
   "cell_type": "code",
   "execution_count": 2,
   "metadata": {},
   "outputs": [
    {
     "data": {
      "text/plain": [
       "'aba'"
      ]
     },
     "execution_count": 2,
     "metadata": {},
     "output_type": "execute_result"
    }
   ],
   "source": [
    "longest(\"babad\")"
   ]
  },
  {
   "cell_type": "code",
   "execution_count": null,
   "metadata": {},
   "outputs": [],
   "source": []
  }
 ],
 "metadata": {
  "kernelspec": {
   "display_name": "Python 3",
   "language": "python",
   "name": "python3"
  },
  "language_info": {
   "codemirror_mode": {
    "name": "ipython",
    "version": 3
   },
   "file_extension": ".py",
   "mimetype": "text/x-python",
   "name": "python",
   "nbconvert_exporter": "python",
   "pygments_lexer": "ipython3",
   "version": "3.7.3"
  }
 },
 "nbformat": 4,
 "nbformat_minor": 2
}

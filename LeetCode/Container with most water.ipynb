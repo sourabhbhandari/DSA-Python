{
 "cells": [
  {
   "cell_type": "code",
   "execution_count": 1,
   "metadata": {},
   "outputs": [],
   "source": [
    "def max_area(height):\n",
    "    \n",
    "    i = 0\n",
    "    j = len(height)-1\n",
    "    area = 0\n",
    "    maxarea = 0\n",
    "    while i<=j:\n",
    "        if height[i] > height[j]:\n",
    "            area = (j-i) * height[j]\n",
    "            j-=1\n",
    "        else:\n",
    "            area = (j-i)*height[i]\n",
    "            i+=1\n",
    "        \n",
    "        if area > maxarea:\n",
    "            maxarea = area\n",
    "    \n",
    "    return maxarea"
   ]
  },
  {
   "cell_type": "code",
   "execution_count": null,
   "metadata": {},
   "outputs": [],
   "source": []
  }
 ],
 "metadata": {
  "kernelspec": {
   "display_name": "Python 3",
   "language": "python",
   "name": "python3"
  },
  "language_info": {
   "codemirror_mode": {
    "name": "ipython",
    "version": 3
   },
   "file_extension": ".py",
   "mimetype": "text/x-python",
   "name": "python",
   "nbconvert_exporter": "python",
   "pygments_lexer": "ipython3",
   "version": "3.7.3"
  }
 },
 "nbformat": 4,
 "nbformat_minor": 2
}

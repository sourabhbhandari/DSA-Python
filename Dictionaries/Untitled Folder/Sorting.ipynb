{
 "cells": [
  {
   "cell_type": "code",
   "execution_count": 10,
   "metadata": {},
   "outputs": [
    {
     "name": "stdout",
     "output_type": "stream",
     "text": [
      "11 12 22 25 64 "
     ]
    }
   ],
   "source": [
    "import sys\n",
    "\n",
    "\n",
    "def selection_sort(A,l):\n",
    "    \n",
    "    for i in range(l):\n",
    "        \n",
    "        min_index = i\n",
    "        \n",
    "        for j in range(i+1,l):\n",
    "            \n",
    "            if A[min_index] > A[j]:\n",
    "                \n",
    "                min_index = j\n",
    "            \n",
    "        A[i] , A[min_index] = A[min_index],A[i]\n",
    "    \n",
    "A = [64,25,12,22,11]\n",
    "l = len(A)\n",
    "selection_sort(A,l)\n",
    "\n",
    "for i in range(l):\n",
    "    print(A[i], end=\" \")"
   ]
  },
  {
   "cell_type": "code",
   "execution_count": 17,
   "metadata": {},
   "outputs": [
    {
     "name": "stdout",
     "output_type": "stream",
     "text": [
      "5 11 22 43 64 "
     ]
    }
   ],
   "source": [
    "def bubble_sort(A,n):\n",
    "    \n",
    "    for i in range(n):\n",
    "        \n",
    "        for j in range(0,n-i-1):\n",
    "            \n",
    "            if A[j] > A[j+1]:\n",
    "                A[j],A[j+1] = A[j+1],A[j]\n",
    "                \n",
    "\n",
    "A = [64,11,22,43,5]\n",
    "n = len(A)\n",
    "bubble_sort(A,n)\n",
    "\n",
    "for i in range(n):\n",
    "    print(A[i],end=\" \")"
   ]
  },
  {
   "cell_type": "code",
   "execution_count": 22,
   "metadata": {},
   "outputs": [
    {
     "name": "stdout",
     "output_type": "stream",
     "text": [
      "2 5 11 33 64 "
     ]
    }
   ],
   "source": [
    "def insertion_sort(A,n):\n",
    "    \n",
    "\n",
    "    for i in range(1,n):\n",
    "        \n",
    "        value = A[i]\n",
    "        \n",
    "        j = i-1\n",
    "        while(j>=0 and value < A[j]):\n",
    "            \n",
    "            A[j+1] = A[j]\n",
    "            j-=1\n",
    "            \n",
    "        A[j+1] = value\n",
    "    \n",
    "A = [64,11,33,2,5]\n",
    "n = len(A)\n",
    "insertion_sort(A,n)\n",
    "\n",
    "\n",
    "for i in range(n):\n",
    "    print(A[i], end=\" \")"
   ]
  },
  {
   "cell_type": "code",
   "execution_count": 26,
   "metadata": {},
   "outputs": [
    {
     "ename": "IndexError",
     "evalue": "list index out of range",
     "output_type": "error",
     "traceback": [
      "\u001b[0;31m---------------------------------------------------------------------------\u001b[0m",
      "\u001b[0;31mIndexError\u001b[0m                                Traceback (most recent call last)",
      "\u001b[0;32m<ipython-input-26-d1c2ba91758a>\u001b[0m in \u001b[0;36m<module>\u001b[0;34m\u001b[0m\n\u001b[1;32m     19\u001b[0m \u001b[0mhigh\u001b[0m \u001b[0;34m=\u001b[0m \u001b[0mlen\u001b[0m\u001b[0;34m(\u001b[0m\u001b[0mA\u001b[0m\u001b[0;34m)\u001b[0m\u001b[0;34m\u001b[0m\u001b[0;34m\u001b[0m\u001b[0m\n\u001b[1;32m     20\u001b[0m \u001b[0mn\u001b[0m \u001b[0;34m=\u001b[0m \u001b[0mlen\u001b[0m\u001b[0;34m(\u001b[0m\u001b[0mA\u001b[0m\u001b[0;34m)\u001b[0m\u001b[0;34m\u001b[0m\u001b[0;34m\u001b[0m\u001b[0m\n\u001b[0;32m---> 21\u001b[0;31m \u001b[0mquick_sort\u001b[0m\u001b[0;34m(\u001b[0m\u001b[0mA\u001b[0m\u001b[0;34m,\u001b[0m\u001b[0mlow\u001b[0m\u001b[0;34m,\u001b[0m\u001b[0mhigh\u001b[0m\u001b[0;34m)\u001b[0m\u001b[0;34m\u001b[0m\u001b[0;34m\u001b[0m\u001b[0m\n\u001b[0m\u001b[1;32m     22\u001b[0m \u001b[0;34m\u001b[0m\u001b[0m\n\u001b[1;32m     23\u001b[0m \u001b[0;32mfor\u001b[0m \u001b[0mi\u001b[0m \u001b[0;32min\u001b[0m \u001b[0mrange\u001b[0m\u001b[0;34m(\u001b[0m\u001b[0mn\u001b[0m\u001b[0;34m)\u001b[0m\u001b[0;34m:\u001b[0m\u001b[0;34m\u001b[0m\u001b[0;34m\u001b[0m\u001b[0m\n",
      "\u001b[0;32m<ipython-input-26-d1c2ba91758a>\u001b[0m in \u001b[0;36mquick_sort\u001b[0;34m(A, low, high)\u001b[0m\n\u001b[1;32m      1\u001b[0m \u001b[0;32mdef\u001b[0m \u001b[0mquick_sort\u001b[0m\u001b[0;34m(\u001b[0m\u001b[0mA\u001b[0m\u001b[0;34m,\u001b[0m\u001b[0mlow\u001b[0m\u001b[0;34m,\u001b[0m\u001b[0mhigh\u001b[0m\u001b[0;34m)\u001b[0m\u001b[0;34m:\u001b[0m\u001b[0;34m\u001b[0m\u001b[0;34m\u001b[0m\u001b[0m\n\u001b[1;32m      2\u001b[0m \u001b[0;34m\u001b[0m\u001b[0m\n\u001b[0;32m----> 3\u001b[0;31m     \u001b[0mpivot\u001b[0m \u001b[0;34m=\u001b[0m \u001b[0mA\u001b[0m\u001b[0;34m[\u001b[0m\u001b[0mhigh\u001b[0m\u001b[0;34m]\u001b[0m\u001b[0;34m\u001b[0m\u001b[0;34m\u001b[0m\u001b[0m\n\u001b[0m\u001b[1;32m      4\u001b[0m     \u001b[0mi\u001b[0m \u001b[0;34m=\u001b[0m \u001b[0;34m(\u001b[0m \u001b[0mlow\u001b[0m\u001b[0;34m-\u001b[0m\u001b[0;36m1\u001b[0m \u001b[0;34m)\u001b[0m\u001b[0;34m\u001b[0m\u001b[0;34m\u001b[0m\u001b[0m\n\u001b[1;32m      5\u001b[0m \u001b[0;34m\u001b[0m\u001b[0m\n",
      "\u001b[0;31mIndexError\u001b[0m: list index out of range"
     ]
    }
   ],
   "source": [
    "def quick_sort(A,low,high):\n",
    "    \n",
    "    pivot = A[high]    \n",
    "    i = ( low-1 )\n",
    "        \n",
    "    for j in range(low,high):\n",
    "            \n",
    "        if A[j] < pivot:\n",
    "            \n",
    "            i+=1\n",
    "            A[i],A[j] = A[j],A[i]\n",
    "            \n",
    "    A[i+1],A[high] = A[high],A[i+1]\n",
    "    \n",
    "    return ( i+1 )\n",
    "\n",
    "A = [10,80,30,90,40,50,70]\n",
    "low = 0\n",
    "high = len(A)\n",
    "n = len(A)\n",
    "quick_sort(A,low,high)\n",
    "\n",
    "for i in range(n):\n",
    "    print(A[i],end=\" \")"
   ]
  },
  {
   "cell_type": "code",
   "execution_count": null,
   "metadata": {},
   "outputs": [],
   "source": []
  }
 ],
 "metadata": {
  "kernelspec": {
   "display_name": "Python 3",
   "language": "python",
   "name": "python3"
  },
  "language_info": {
   "codemirror_mode": {
    "name": "ipython",
    "version": 3
   },
   "file_extension": ".py",
   "mimetype": "text/x-python",
   "name": "python",
   "nbconvert_exporter": "python",
   "pygments_lexer": "ipython3",
   "version": "3.7.3"
  }
 },
 "nbformat": 4,
 "nbformat_minor": 2
}

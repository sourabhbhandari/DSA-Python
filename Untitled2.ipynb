{
 "cells": [
  {
   "cell_type": "code",
   "execution_count": 4,
   "metadata": {},
   "outputs": [
    {
     "name": "stdout",
     "output_type": "stream",
     "text": [
      "hackEr\n",
      "lovely string\n"
     ]
    }
   ],
   "source": [
    "def my_string(s):\n",
    "\n",
    "    x = s[0\n",
    "    if s[0] in \"aeiou\" or \"AEIOU\":\n",
    "        print(\"lovely string\")\n",
    "    else:\n",
    "        print(\"ugly string\")\n",
    "\n",
    "s  = input()\n",
    "my_string(s)"
   ]
  },
  {
   "cell_type": "code",
   "execution_count": null,
   "metadata": {},
   "outputs": [],
   "source": []
  }
 ],
 "metadata": {
  "kernelspec": {
   "display_name": "Python 3",
   "language": "python",
   "name": "python3"
  },
  "language_info": {
   "codemirror_mode": {
    "name": "ipython",
    "version": 3
   },
   "file_extension": ".py",
   "mimetype": "text/x-python",
   "name": "python",
   "nbconvert_exporter": "python",
   "pygments_lexer": "ipython3",
   "version": "3.7.3"
  }
 },
 "nbformat": 4,
 "nbformat_minor": 2
}

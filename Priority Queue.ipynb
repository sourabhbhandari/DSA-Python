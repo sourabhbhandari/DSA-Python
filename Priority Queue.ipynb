{
 "cells": [
  {
   "cell_type": "code",
   "execution_count": 1,
   "metadata": {},
   "outputs": [],
   "source": [
    "## Heap :\n",
    "## -> Compelete Binary Tree\n",
    "## -> Heap Order Property"
   ]
  },
  {
   "cell_type": "code",
   "execution_count": 4,
   "metadata": {},
   "outputs": [],
   "source": [
    "#CBT - Compelete Binary Tree\n",
    "\n",
    "# 1. All levels should be filled except the last level\n",
    "# 2. Elements should be inserted from left to right in each level. (can't skip any position)  "
   ]
  },
  {
   "cell_type": "code",
   "execution_count": 5,
   "metadata": {},
   "outputs": [],
   "source": [
    "## Insert -> insert in the last only (Left to Right)\n",
    "## Removal -> remove from last only (Right Most)\n",
    "##  "
   ]
  },
  {
   "cell_type": "code",
   "execution_count": 6,
   "metadata": {},
   "outputs": [],
   "source": [
    "## Height of Complete Binary Tree:  CBT...\n",
    "## always - 0(log n)"
   ]
  },
  {
   "cell_type": "code",
   "execution_count": 7,
   "metadata": {},
   "outputs": [],
   "source": [
    " ## In Array --------->\n",
    " ## parent will be at : (i-1)/2\n",
    " ## Child will be at : (2i+1) and (2i+2)"
   ]
  },
  {
   "cell_type": "code",
   "execution_count": 8,
   "metadata": {},
   "outputs": [],
   "source": [
    "## Max Heap - Child value Should be lesser than the parent value \n",
    "## Largest value should be on the TOP (at ROOT)\n",
    "## Min Heap - Child value should be grater than the parent value\n",
    "## Lowest Value Should be at the TOP(at ROOT)"
   ]
  },
  {
   "cell_type": "code",
   "execution_count": 9,
   "metadata": {},
   "outputs": [],
   "source": [
    "## How to insert in Heap:\n",
    "## Compare with parent value and move as per requirement.\n",
    "## "
   ]
  },
  {
   "cell_type": "code",
   "execution_count": 10,
   "metadata": {},
   "outputs": [],
   "source": [
    "## BASE Case:\n",
    "## 1. Once the parent value is compared and satisfied.\n",
    "## 2. stop once you reached at root position."
   ]
  },
  {
   "cell_type": "code",
   "execution_count": null,
   "metadata": {},
   "outputs": [],
   "source": [
    "## Remove Element From the Heap:\n",
    "## "
   ]
  }
 ],
 "metadata": {
  "kernelspec": {
   "display_name": "Python 3",
   "language": "python",
   "name": "python3"
  },
  "language_info": {
   "codemirror_mode": {
    "name": "ipython",
    "version": 3
   },
   "file_extension": ".py",
   "mimetype": "text/x-python",
   "name": "python",
   "nbconvert_exporter": "python",
   "pygments_lexer": "ipython3",
   "version": "3.7.3"
  }
 },
 "nbformat": 4,
 "nbformat_minor": 2
}

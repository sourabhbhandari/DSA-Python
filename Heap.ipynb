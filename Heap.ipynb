{
 "cells": [
  {
   "cell_type": "code",
   "execution_count": null,
   "metadata": {},
   "outputs": [],
   "source": [
    "class  Node:\n",
    "    \n",
    "    def __init__(self,value,priority):\n",
    "        self.value = value\n",
    "        self.priority = priority\n",
    "    \n",
    "class PQ:\n",
    "    \n",
    "    def __init__(self):\n",
    "        self.pq = []\n",
    "    \n",
    "    def getSize():\n",
    "        return len(self.pq)\n",
    "    \n",
    "    def isEmpty():\n",
    "        return self.getSize() == 0\n",
    "    \n",
    "    def getMin():\n",
    "        \n",
    "        if self.isEmpty() is True:\n",
    "            return None\n",
    "        return self.pq[0].value\n",
    "    \n",
    "    def insert(self,value,priority):\n",
    "        \n",
    "        pass\n",
    "    \n",
    "    def removeMin(self):\n",
    "        pass \n",
    "        "
   ]
  }
 ],
 "metadata": {
  "kernelspec": {
   "display_name": "Python 3",
   "language": "python",
   "name": "python3"
  },
  "language_info": {
   "codemirror_mode": {
    "name": "ipython",
    "version": 3
   },
   "file_extension": ".py",
   "mimetype": "text/x-python",
   "name": "python",
   "nbconvert_exporter": "python",
   "pygments_lexer": "ipython3",
   "version": "3.7.3"
  }
 },
 "nbformat": 4,
 "nbformat_minor": 2
}

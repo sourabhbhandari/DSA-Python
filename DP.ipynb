{
 "cells": [
  {
   "cell_type": "code",
   "execution_count": null,
   "metadata": {},
   "outputs": [
    {
     "name": "stdout",
     "output_type": "stream",
     "text": [
      "60\n"
     ]
    }
   ],
   "source": [
    "## Fib Series:\n",
    "\n",
    "\n",
    "\n",
    "def fib(n):\n",
    "    if n==0 or n==1:\n",
    "        return n\n",
    "    ans1 = fib(n-1)\n",
    "    ans2 = fib(n-2)\n",
    "    return ans1+ans2\n",
    "\n",
    "\n",
    "n = int(input())\n",
    "ans = fib(n)\n",
    "print(ans)"
   ]
  },
  {
   "cell_type": "code",
   "execution_count": 9,
   "metadata": {},
   "outputs": [
    {
     "name": "stdout",
     "output_type": "stream",
     "text": [
      "60\n",
      "1548008755920\n"
     ]
    }
   ],
   "source": [
    "## fib:\n",
    "\n",
    "\n",
    "def fib(n,dp):\n",
    "    \n",
    "    dp[0] = 0\n",
    "    dp[1] = 1\n",
    "    \n",
    "    if dp[n-1] == -1:\n",
    "        ans1 = fib(n-1,dp)\n",
    "        dp[n-1] = ans1\n",
    "    else:\n",
    "        ans1 = dp[n-1]\n",
    "        \n",
    "    if dp[n-2] == -1:\n",
    "        ans2 = fib(n-2,dp)\n",
    "        dp[n-2] = ans2\n",
    "    else:\n",
    "        ans2 = dp[n-2]\n",
    "    \n",
    "    myAns = ans1 + ans2\n",
    "    return myAns\n",
    "\n",
    "n = int(input())\n",
    "dp = [-1 for i in range(n)]\n",
    "ans = fib(n,dp)\n",
    "print(ans)"
   ]
  },
  {
   "cell_type": "code",
   "execution_count": 8,
   "metadata": {},
   "outputs": [
    {
     "name": "stdout",
     "output_type": "stream",
     "text": [
      "60\n",
      "1548008755920\n"
     ]
    }
   ],
   "source": [
    "## Iterative Solution:\n",
    "def fib(n):\n",
    "    \n",
    "    dp = [0 for i in range(n+1)]\n",
    "    dp[0] = 0\n",
    "    dp[1] = 1\n",
    "    i = 2\n",
    "    while(i<=n):\n",
    "        dp[i] = dp[i-1] + dp[i-2]\n",
    "        i+=1\n",
    "    return dp[n]\n",
    "\n",
    "n = int(input())\n",
    "ans = fib(n)\n",
    "print(ans)\n",
    "        "
   ]
  },
  {
   "cell_type": "code",
   "execution_count": 1,
   "metadata": {},
   "outputs": [],
   "source": [
    "## Next:"
   ]
  },
  {
   "cell_type": "code",
   "execution_count": null,
   "metadata": {},
   "outputs": [],
   "source": [
    "import sys\n",
    "def minSteps(n,dp):\n",
    "        \n",
    "        if n == 1:\n",
    "            return 0\n",
    "        \n",
    "        ans1 = sys.maxsize\n",
    "        \n",
    "        if n%3 == 0:\n",
    "            if dp[n//3] == -1:\n",
    "                \n",
    "                ans1 = minSteps(n//3,dp)\n",
    "                dp[n//3] = ans1\n",
    "            else:\n",
    "                ans1 = dp[n//3]\n",
    "                \n",
    "        ans2 = sys.maxsize\n",
    "        \n",
    "        if n%2 == 0:\n",
    "            if dp[n//2] == -1:\n",
    "                \n",
    "                ans2 = minSteps(n//2,dp)\n",
    "                dp[n//2] = ans2\n",
    "            else:\n",
    "                ans2 = dp[n//2]\n",
    "                \n",
    "        if dp[n-1] == -1:\n",
    "            \n",
    "            ans3 = minSteps(n-1,dp)\n",
    "            dp[n-1] = ans3\n",
    "        else:\n",
    "            ans3 = dp[n-1]\n",
    "            \n",
    "        ans = 1 + min(ans1,ans2,ans3)\n",
    "        \n",
    "        return ans"
   ]
  },
  {
   "cell_type": "code",
   "execution_count": null,
   "metadata": {},
   "outputs": [],
   "source": [
    "n = int(input())\n",
    "dp = [-1 for i in range(n+1)]\n",
    "print(minSteps(20,dp))"
   ]
  },
  {
   "cell_type": "code",
   "execution_count": null,
   "metadata": {},
   "outputs": [],
   "source": []
  }
 ],
 "metadata": {
  "kernelspec": {
   "display_name": "Python 3",
   "language": "python",
   "name": "python3"
  },
  "language_info": {
   "codemirror_mode": {
    "name": "ipython",
    "version": 3
   },
   "file_extension": ".py",
   "mimetype": "text/x-python",
   "name": "python",
   "nbconvert_exporter": "python",
   "pygments_lexer": "ipython3",
   "version": "3.7.3"
  }
 },
 "nbformat": 4,
 "nbformat_minor": 2
}

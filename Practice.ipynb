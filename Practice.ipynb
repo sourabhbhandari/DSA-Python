{
 "cells": [
  {
   "cell_type": "code",
   "execution_count": 19,
   "metadata": {},
   "outputs": [
    {
     "name": "stdout",
     "output_type": "stream",
     "text": [
      "1 2 3 4 5 6 7 8 9 -1\n",
      "1-> 2-> 3-> 4-> 5-> 6-> 7-> 8-> 9-> None\n"
     ]
    },
    {
     "data": {
      "text/plain": [
       "9"
      ]
     },
     "execution_count": 19,
     "metadata": {},
     "output_type": "execute_result"
    }
   ],
   "source": [
    "## Taking Input in Linked List\n",
    "\n",
    "class Node:\n",
    "    \n",
    "    def __init__(self,data):\n",
    "        self.data = data\n",
    "        self.next = None\n",
    "            \n",
    "def lengthLL(head):\n",
    "    count = 0\n",
    "    while head is not None:\n",
    "        count=count+1\n",
    "        print(str(head.data)+\"->\",end=\" \")\n",
    "        head = head.next\n",
    "    print(\"None\")\n",
    "    return count\n",
    "        \n",
    "      \n",
    "\n",
    "        \n",
    "def takeInput():\n",
    "\n",
    "    inputList = [int(ele) for ele in input().split()]\n",
    "    head = None\n",
    "    tail = None\n",
    "    for currData in inputList:\n",
    "        if currData == -1:\n",
    "            break \n",
    "        \n",
    "        newNode = Node(currData)\n",
    "        \n",
    "        if head is None:\n",
    "            head = newNode\n",
    "            tail = newNode\n",
    "        else:\n",
    "            tail.next = newNode\n",
    "            tail = tail.next\n",
    "    return head\n",
    "\n",
    "head = takeInput()\n",
    "lengthLL(head)"
   ]
  },
  {
   "cell_type": "code",
   "execution_count": 24,
   "metadata": {},
   "outputs": [
    {
     "name": "stdout",
     "output_type": "stream",
     "text": [
      "[5, 4, 3, 2, 1]\n"
     ]
    }
   ],
   "source": [
    "## Reverse a given array\n",
    "\n",
    "def reverse(arr):\n",
    "    \n",
    "    low = 0\n",
    "    high = len(arr)\n",
    "    mid = low + (high-low)//2\n",
    "    i = 0\n",
    "    j = len(arr)-1\n",
    "    while i<mid:    \n",
    "        arr[i],arr[j] = arr[j],arr[i]\n",
    "        i+=1\n",
    "        j-=1\n",
    "    return\n",
    "\n",
    "arr = [1,2,3,4,5]\n",
    "reverse(arr)\n",
    "print(arr)"
   ]
  },
  {
   "cell_type": "code",
   "execution_count": null,
   "metadata": {},
   "outputs": [],
   "source": []
  }
 ],
 "metadata": {
  "kernelspec": {
   "display_name": "Python 3",
   "language": "python",
   "name": "python3"
  },
  "language_info": {
   "codemirror_mode": {
    "name": "ipython",
    "version": 3
   },
   "file_extension": ".py",
   "mimetype": "text/x-python",
   "name": "python",
   "nbconvert_exporter": "python",
   "pygments_lexer": "ipython3",
   "version": "3.7.3"
  }
 },
 "nbformat": 4,
 "nbformat_minor": 2
}
